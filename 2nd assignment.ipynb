{
 "cells": [
  {
   "cell_type": "code",
   "execution_count": 1,
   "id": "e012c7ff-8949-4108-b906-3ce953ff51fa",
   "metadata": {},
   "outputs": [
    {
     "name": "stdin",
     "output_type": "stream",
     "text": [
      "Enter the marks 70\n"
     ]
    },
    {
     "name": "stdout",
     "output_type": "stream",
     "text": [
      "Your Grade is C\n"
     ]
    }
   ],
   "source": [
    "marks=int(input(\"Enter the marks\"))\n",
    "if marks>90:\n",
    "    print(\"Your Grade is A\")\n",
    "elif marks >80 and marks <=90 :\n",
    "    print(\"Your Grade is B\")\n",
    "elif marks >60 and marks <= 80 :\n",
    "    print(\"Your Grade is C\")\n",
    "else:\n",
    "    print(\"Your Grade is D\")"
   ]
  },
  {
   "cell_type": "code",
   "execution_count": 2,
   "id": "cdd3eb86-d0c8-49b1-af33-45a866f9aa63",
   "metadata": {},
   "outputs": [
    {
     "name": "stdin",
     "output_type": "stream",
     "text": [
      "Enter the cost of the bike 95000\n"
     ]
    },
    {
     "name": "stdout",
     "output_type": "stream",
     "text": [
      "You have to pay 10% tax\n"
     ]
    }
   ],
   "source": [
    "cost=int(input(\"Enter the cost of the bike\"))\n",
    "if cost > 100000:\n",
    "    print(\"You have to pay 15% tax\")\n",
    "elif cost >50000 and cost <=100000:\n",
    "    print(\"You have to pay 10% tax\")\n",
    "else:\n",
    "    print(\"You have to pay 5% tax\")"
   ]
  },
  {
   "cell_type": "code",
   "execution_count": 3,
   "id": "3fa67e49-3b9c-4307-9e92-12ef3fea5727",
   "metadata": {},
   "outputs": [
    {
     "name": "stdin",
     "output_type": "stream",
     "text": [
      "Enter your city Agra\n"
     ]
    },
    {
     "name": "stdout",
     "output_type": "stream",
     "text": [
      "You must see the Taj Mahal\n"
     ]
    }
   ],
   "source": [
    "city=str(input(\"Enter your city\"))\n",
    "if city== \"Delhi\":\n",
    "    print(\"You must see the Red fort\")\n",
    "elif city== \"Agra\":\n",
    "    print(\"You must see the Taj Mahal\")\n",
    "elif city== \"Jaipur\":\n",
    "    print(\"You must see the Jal Mahal\")"
   ]
  },
  {
   "cell_type": "markdown",
   "id": "1091834c-ca2b-4ef3-b2db-1fff54b22580",
   "metadata": {},
   "source": [
    "Python while loop is used to run a block code until a certain condition is met. Here, A while loop evaluates the condition. If the condition evaluates to True , the code inside the while loop is executed.\n",
    "When we need to end the loop on a condition other than the number of times, we use a while loop. In this case, it is not necessary to know the condition beforehand. That is why we can give a boolean expression in the initialization of the loop.\n",
    "for example : we need a list from 0 to 10"
   ]
  },
  {
   "cell_type": "code",
   "execution_count": 2,
   "id": "bdc5b3d6-ee47-48c5-849a-f18c39eff4d2",
   "metadata": {},
   "outputs": [
    {
     "name": "stdout",
     "output_type": "stream",
     "text": [
      "1\n",
      "2\n",
      "3\n",
      "4\n",
      "5\n",
      "6\n",
      "7\n",
      "8\n",
      "9\n",
      "10\n"
     ]
    }
   ],
   "source": [
    "i=0\n",
    "while i<10:\n",
    "    i=i+1\n",
    "    print(i)"
   ]
  },
  {
   "cell_type": "code",
   "execution_count": 6,
   "id": "e4b8932c-8d07-46ac-8a21-50d9c48b21c8",
   "metadata": {},
   "outputs": [
    {
     "name": "stdout",
     "output_type": "stream",
     "text": [
      "\n",
      "0 \n",
      "0 1 \n",
      "0 1 2 \n",
      "0 1 2 3 \n"
     ]
    }
   ],
   "source": [
    "i=0\n",
    "while i<5:\n",
    "    j=0\n",
    "    while j<i:\n",
    "        print(j,end=\" \")\n",
    "        j=j+1\n",
    "    print(\"\")\n",
    "    i=i+1"
   ]
  },
  {
   "cell_type": "code",
   "execution_count": 1,
   "id": "86f9fc05-aa97-446b-a688-610c37e32045",
   "metadata": {},
   "outputs": [
    {
     "name": "stdout",
     "output_type": "stream",
     "text": [
      "10\n",
      "9\n",
      "8\n",
      "7\n",
      "6\n",
      "5\n",
      "4\n",
      "3\n",
      "2\n",
      "1\n"
     ]
    }
   ],
   "source": [
    "i = 10\n",
    "while i > 0:\n",
    "    print(i)\n",
    "    i = i - 1"
   ]
  },
  {
   "cell_type": "code",
   "execution_count": null,
   "id": "664d8a05-5974-43fa-88fe-060255c3bac4",
   "metadata": {},
   "outputs": [],
   "source": []
  }
 ],
 "metadata": {
  "kernelspec": {
   "display_name": "Python 3 (ipykernel)",
   "language": "python",
   "name": "python3"
  },
  "language_info": {
   "codemirror_mode": {
    "name": "ipython",
    "version": 3
   },
   "file_extension": ".py",
   "mimetype": "text/x-python",
   "name": "python",
   "nbconvert_exporter": "python",
   "pygments_lexer": "ipython3",
   "version": "3.10.8"
  }
 },
 "nbformat": 4,
 "nbformat_minor": 5
}
